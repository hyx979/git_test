{
 "cells": [
  {
   "cell_type": "code",
   "execution_count": 1,
   "metadata": {
    "execution": {
     "iopub.execute_input": "2020-10-21T05:42:20.245199Z",
     "iopub.status.busy": "2020-10-21T05:42:20.244496Z",
     "iopub.status.idle": "2020-10-21T05:42:20.688126Z",
     "shell.execute_reply": "2020-10-21T05:42:20.687506Z",
     "shell.execute_reply.started": "2020-10-21T05:42:20.245132Z"
    }
   },
   "outputs": [],
   "source": [
    "import matplotlib\n",
    "import numpy as np\n",
    "import scipy.fftpack as fftpack\n",
    "import scipy.linalg as spln\n",
    "import scipy.optimize as optimize\n",
    "import matplotlib.pyplot as plt \n",
    "from scipy import integrate\n",
    "import pandas as pd\n",
    "#plt.switch_backend('agg')\n",
    "matplotlib.rc('xtick',labelsize=18)\n",
    "matplotlib.rc('ytick',labelsize=18)\n",
    "pi= np.pi\n",
    "font_size= 20\n",
    "linsty= ['-','--',':','-.']"
   ]
  }
 ],
 "metadata": {
  "kernelspec": {
   "display_name": "Python 3",
   "language": "python",
   "name": "python3"
  },
  "language_info": {
   "codemirror_mode": {
    "name": "ipython",
    "version": 3
   },
   "file_extension": ".py",
   "mimetype": "text/x-python",
   "name": "python",
   "nbconvert_exporter": "python",
   "pygments_lexer": "ipython3",
   "version": "3.8.5"
  }
 },
 "nbformat": 4,
 "nbformat_minor": 4
}
